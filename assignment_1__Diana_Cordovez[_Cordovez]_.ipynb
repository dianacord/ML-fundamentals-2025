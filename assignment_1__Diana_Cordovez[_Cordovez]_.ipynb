{
 "cells": [
  {
   "cell_type": "markdown",
   "id": "e20f46f6",
   "metadata": {},
   "source": [
    "# Machine Learning Foundations: Data Preparation\n",
    "\n",
    "## Task 1: Data Loading and Initial Exploration"
   ]
  },
  {
   "cell_type": "code",
   "execution_count": 70,
   "id": "d5245059",
   "metadata": {},
   "outputs": [
    {
     "name": "stdout",
     "output_type": "stream",
     "text": [
      "   pclass  survived                                             name     sex  \\\n",
      "0       1         1                    Allen, Miss. Elisabeth Walton  female   \n",
      "1       1         1                   Allison, Master. Hudson Trevor    male   \n",
      "2       1         0                     Allison, Miss. Helen Loraine  female   \n",
      "3       1         0             Allison, Mr. Hudson Joshua Creighton    male   \n",
      "4       1         0  Allison, Mrs. Hudson J C (Bessie Waldo Daniels)  female   \n",
      "\n",
      "       age  sibsp  parch  ticket      fare    cabin embarked boat   body  \\\n",
      "0  29.0000      0      0   24160  211.3375       B5        S    2    NaN   \n",
      "1   0.9167      1      2  113781  151.5500  C22 C26        S   11    NaN   \n",
      "2   2.0000      1      2  113781  151.5500  C22 C26        S  NaN    NaN   \n",
      "3  30.0000      1      2  113781  151.5500  C22 C26        S  NaN  135.0   \n",
      "4  25.0000      1      2  113781  151.5500  C22 C26        S  NaN    NaN   \n",
      "\n",
      "                         home.dest  \n",
      "0                     St Louis, MO  \n",
      "1  Montreal, PQ / Chesterville, ON  \n",
      "2  Montreal, PQ / Chesterville, ON  \n",
      "3  Montreal, PQ / Chesterville, ON  \n",
      "4  Montreal, PQ / Chesterville, ON  \n",
      "<class 'pandas.core.frame.DataFrame'>\n",
      "RangeIndex: 1309 entries, 0 to 1308\n",
      "Data columns (total 14 columns):\n",
      " #   Column     Non-Null Count  Dtype  \n",
      "---  ------     --------------  -----  \n",
      " 0   pclass     1309 non-null   int64  \n",
      " 1   survived   1309 non-null   int64  \n",
      " 2   name       1309 non-null   object \n",
      " 3   sex        1309 non-null   object \n",
      " 4   age        1046 non-null   float64\n",
      " 5   sibsp      1309 non-null   int64  \n",
      " 6   parch      1309 non-null   int64  \n",
      " 7   ticket     1309 non-null   object \n",
      " 8   fare       1308 non-null   float64\n",
      " 9   cabin      295 non-null    object \n",
      " 10  embarked   1307 non-null   object \n",
      " 11  boat       486 non-null    object \n",
      " 12  body       121 non-null    float64\n",
      " 13  home.dest  745 non-null    object \n",
      "dtypes: float64(3), int64(4), object(7)\n",
      "memory usage: 143.3+ KB\n",
      "None\n",
      "            pclass     survived          age        sibsp        parch  \\\n",
      "count  1309.000000  1309.000000  1046.000000  1309.000000  1309.000000   \n",
      "mean      2.294882     0.381971    29.881135     0.498854     0.385027   \n",
      "std       0.837836     0.486055    14.413500     1.041658     0.865560   \n",
      "min       1.000000     0.000000     0.166700     0.000000     0.000000   \n",
      "25%       2.000000     0.000000    21.000000     0.000000     0.000000   \n",
      "50%       3.000000     0.000000    28.000000     0.000000     0.000000   \n",
      "75%       3.000000     1.000000    39.000000     1.000000     0.000000   \n",
      "max       3.000000     1.000000    80.000000     8.000000     9.000000   \n",
      "\n",
      "              fare        body  \n",
      "count  1308.000000  121.000000  \n",
      "mean     33.295479  160.809917  \n",
      "std      51.758668   97.696922  \n",
      "min       0.000000    1.000000  \n",
      "25%       7.895800   72.000000  \n",
      "50%      14.454200  155.000000  \n",
      "75%      31.275000  256.000000  \n",
      "max     512.329200  328.000000  \n"
     ]
    }
   ],
   "source": [
    "import pandas as pd\n",
    "\n",
    "df = pd.read_excel('titanic3.xls')\n",
    "\n",
    "print(df.head())\n",
    "print(df.info())\n",
    "print(df.describe())"
   ]
  },
  {
   "cell_type": "markdown",
   "id": "f3c45d2c",
   "metadata": {},
   "source": [
    "From this output, we see that the dataset has 1,309 entries and 14 columns (features). Is this data enough? We cannot determine that yet without evaluating the planned models, goals, and performance metrics.\n",
    "\n",
    "But using `.head()` to view the first 5 rows, I can visualize and inspect the structure of the dataset. This showed that we have a good mix of numerical and categorical variables:\n",
    "- Numeric: `age`, `fare`\n",
    "- Numeric but ordinal: `pclass` (1st, 2nd, 3rd class)\n",
    "- Categorical stored as strings: `sex`, `embarked`, `home.dest`, `name`\n",
    "These categorical columns will need encoding before training models. \n",
    "\n",
    "From this, we can also conclude that `cabin`, `boat`, `body` and `age` have missing values, meaning later on, we will need to handle them.\n",
    "\n",
    "From `.describe()` we learn that:\n",
    "- `age` has a wide range (min = 0, max = 80). Some values might be outliers.\n",
    "- `fare` has a huge spread (max = 512). Some passengers paid very high fares, likely in 1st class.\n",
    "- `fare` has a high standard deviation meaning fares vary a lot."
   ]
  },
  {
   "cell_type": "code",
   "execution_count": 71,
   "id": "a64c7a13",
   "metadata": {},
   "outputs": [
    {
     "data": {
      "image/png": "[encoded data removed]",
      "text/plain": [
       "<Figure size 640x480 with 1 Axes>"
      ]
     },
     "metadata": {},
     "output_type": "display_data"
    },
    {
     "name": "stdout",
     "output_type": "stream",
     "text": [
      "survived\n",
      "0    0.618029\n",
      "1    0.381971\n",
      "Name: proportion, dtype: float64\n"
     ]
    }
   ],
   "source": [
    "import seaborn as sns\n",
    "import matplotlib.pyplot as plt\n",
    "\n",
    "sns.countplot(x=df['survived'])\n",
    "plt.title(\"Survival Count\")\n",
    "plt.show()\n",
    "\n",
    "print(df['survived'].value_counts(normalize=True))  # Get class distribution %"
   ]
  },
  {
   "cell_type": "markdown",
   "id": "6c38e360",
   "metadata": {},
   "source": [
    "Because our problem is to find out if a passanger will survive, I plotted these to the proportion of passangers that survived vs the ones that didn't. We got that 62% didnt and 38% did. This helps us see that there is a class imbalance. \n",
    "\n",
    "Why does this matter?\n",
    "- If the model learns from imbalanced data, it might favor predicting non-survival since that is the majority class. \n",
    "- This could lead to bias, making it harder for the model to correctly identify survivors."
   ]
  },
  {
   "cell_type": "code",
   "execution_count": 72,
   "id": "d9ef59dc",
   "metadata": {},
   "outputs": [
    {
     "data": {
      "image/png": "[encoded data removed]",
      "text/plain": [
       "<Figure size 640x480 with 1 Axes>"
      ]
     },
     "metadata": {},
     "output_type": "display_data"
    },
    {
     "data": {
      "image/png": "[encoded data removed]",
      "text/plain": [
       "<Figure size 640x480 with 1 Axes>"
      ]
     },
     "metadata": {},
     "output_type": "display_data"
    }
   ],
   "source": [
    "sns.barplot(x=\"sex\", y=\"survived\", data=df)\n",
    "plt.title(\"Survival Rate by Gender\")\n",
    "plt.show()\n",
    "\n",
    "sns.barplot(x=\"pclass\", y=\"survived\", data=df)\n",
    "plt.title(\"Survival Rate by Class\")\n",
    "plt.show()"
   ]
  },
  {
   "cell_type": "markdown",
   "id": "8ae1dfc8",
   "metadata": {},
   "source": [
    "I also decide to plot survival rate by gender. This being because it is known that women were prioritized on the Titanic. Given the plot, we infact see that females have a survival rate above 70% and males have a much lower survival rate of below 20%. From this analysis I conluded that sex is a strong predictor of survival, meaning we should definitely keep it as a feature in our model. \n",
    "\n",
    "I also plotted survival rate by class. 1st class passengers had the highest survival rate (around 60%).2nd class passengers had a moderate survival rate (around 45%). 3rd class passengers had the lowest survival rate (around 25%). This tells us passenger class also played a major role in survival. \n",
    "\n",
    "This is also the reason why I chose not to later encode `pclass`. At first, I encoded `pclass`, but I quickly realized that I didn’t just want a simple 1/0 distinction for each class. Instead, I wanted the model to understand which specific class a passenger belonged to, preserving the meaningful order between them. This is because our ML problem is predictng survival. Class is directly related to the prediction of this problem, meaning we can't just remove the ranking because this will remove important information the algorithm needs to learn from. Also because we are using a Logistic Regression, our model will assume a linear relationship. So because the order matters, we treat it as a numerical and also ordinal variable."
   ]
  },
  {
   "cell_type": "code",
   "execution_count": 73,
   "id": "e29f1265",
   "metadata": {},
   "outputs": [
    {
     "data": {
      "image/png": "[encoded data removed]",
      "text/plain": [
       "<Figure size 640x480 with 1 Axes>"
      ]
     },
     "metadata": {},
     "output_type": "display_data"
    }
   ],
   "source": [
    "sns.histplot(df[df[\"survived\"] == 1][\"age\"], bins=20, kde=True, label=\"Survived\", color=\"green\")\n",
    "sns.histplot(df[df[\"survived\"] == 0][\"age\"], bins=20, kde=True, label=\"Not Survived\", color=\"red\")\n",
    "plt.legend()\n",
    "plt.title(\"Age Distribution by Survival\")\n",
    "plt.show()"
   ]
  },
  {
   "cell_type": "markdown",
   "id": "73543053",
   "metadata": {},
   "source": [
    "I decided to plot age by survival because I thought children might have been prioritized for lifeboats on the Titanic.\n",
    "\n",
    "From the histogram, we can see that young children (ages 0 to 15 approximately) had a higher survival rate. This is shown by the green bars (survivors) being more prominent at young ages.\n",
    "\n",
    "However, in the overall dataset, the red (non-survivors) and green distributions are fairly similar for adults (ages 20-40). This suggests that age alone may not be a strong predictor for survival in that range."
   ]
  },
  {
   "cell_type": "code",
   "execution_count": 74,
   "id": "40470212",
   "metadata": {},
   "outputs": [
    {
     "data": {
      "image/png": "[encoded data removed]",
      "text/plain": [
       "<Figure size 640x480 with 1 Axes>"
      ]
     },
     "metadata": {},
     "output_type": "display_data"
    }
   ],
   "source": [
    "sns.boxplot(x=\"pclass\", y=\"age\", data=df)\n",
    "plt.title(\"Age Distribution by Passenger Class\")\n",
    "plt.show()"
   ]
  },
  {
   "cell_type": "markdown",
   "id": "b4414a1f",
   "metadata": {},
   "source": [
    "To explore potential relationships between features, I plotted `pclass` vs. `age` to check if passenger class affects age distribution.\n",
    "\n",
    "The plot shows that 1st class passengers tend to be older, while 3rd class passengers are generally younger. This suggests that `age` and `pclass` are correlated."
   ]
  },
  {
   "cell_type": "markdown",
   "id": "f7259f4b",
   "metadata": {},
   "source": [
    "## Task 2: Managing Missing Values"
   ]
  },
  {
   "cell_type": "markdown",
   "id": "df7d5048",
   "metadata": {},
   "source": [
    "First, we need to check which columns have missing values and how many are missing."
   ]
  },
  {
   "cell_type": "code",
   "execution_count": 75,
   "id": "d0eb995b",
   "metadata": {},
   "outputs": [
    {
     "name": "stdout",
     "output_type": "stream",
     "text": [
      "pclass          0\n",
      "survived        0\n",
      "name            0\n",
      "sex             0\n",
      "age           263\n",
      "sibsp           0\n",
      "parch           0\n",
      "ticket          0\n",
      "fare            1\n",
      "cabin        1014\n",
      "embarked        2\n",
      "boat          823\n",
      "body         1188\n",
      "home.dest     564\n",
      "dtype: int64\n"
     ]
    }
   ],
   "source": [
    "print(df.isnull().sum())  # Count missing values in each column"
   ]
  },
  {
   "cell_type": "markdown",
   "id": "60b491a1",
   "metadata": {},
   "source": [
    "### Task 2.1: Dropping columns or fill missing values with a constant"
   ]
  },
  {
   "cell_type": "code",
   "execution_count": 76,
   "id": "1ab50931",
   "metadata": {},
   "outputs": [
    {
     "name": "stderr",
     "output_type": "stream",
     "text": [
      "/var/folders/6r/3wtbz049725_5tc7nk5smtj80000gp/T/ipykernel_910/3840479481.py:3: FutureWarning: A value is trying to be set on a copy of a DataFrame or Series through chained assignment using an inplace method.\n",
      "The behavior will change in pandas 3.0. This inplace method will never work because the intermediate object on which we are setting values always behaves as a copy.\n",
      "\n",
      "For example, when doing 'df[col].method(value, inplace=True)', try using 'df.method({col: value}, inplace=True)' or df[col] = df[col].method(value) instead, to perform the operation inplace on the original object.\n",
      "\n",
      "\n",
      "  df['age'].fillna(-999, inplace=True)  # Fill missing values with -999\n",
      "/var/folders/6r/3wtbz049725_5tc7nk5smtj80000gp/T/ipykernel_910/3840479481.py:4: FutureWarning: A value is trying to be set on a copy of a DataFrame or Series through chained assignment using an inplace method.\n",
      "The behavior will change in pandas 3.0. This inplace method will never work because the intermediate object on which we are setting values always behaves as a copy.\n",
      "\n",
      "For example, when doing 'df[col].method(value, inplace=True)', try using 'df.method({col: value}, inplace=True)' or df[col] = df[col].method(value) instead, to perform the operation inplace on the original object.\n",
      "\n",
      "\n",
      "  df['fare'].fillna(-999, inplace=True)\n",
      "/var/folders/6r/3wtbz049725_5tc7nk5smtj80000gp/T/ipykernel_910/3840479481.py:5: FutureWarning: A value is trying to be set on a copy of a DataFrame or Series through chained assignment using an inplace method.\n",
      "The behavior will change in pandas 3.0. This inplace method will never work because the intermediate object on which we are setting values always behaves as a copy.\n",
      "\n",
      "For example, when doing 'df[col].method(value, inplace=True)', try using 'df.method({col: value}, inplace=True)' or df[col] = df[col].method(value) instead, to perform the operation inplace on the original object.\n",
      "\n",
      "\n",
      "  df['embarked'].fillna('Unknown', inplace=True)  # Fill missing values with 'Unknown'\n"
     ]
    }
   ],
   "source": [
    "df = df.drop(columns=['cabin', 'boat', 'body', 'home.dest', 'name', 'ticket']) # Drop columns with many missing values\n",
    "\n",
    "df['age'].fillna(-999, inplace=True)  # Fill missing values with -999\n",
    "df['fare'].fillna(-999, inplace=True)  \n",
    "df['embarked'].fillna('Unknown', inplace=True)  # Fill missing values with 'Unknown'"
   ]
  },
  {
   "cell_type": "markdown",
   "id": "7c050e37",
   "metadata": {},
   "source": [
    "My strategy was to first drop all columns that have too many missing values. These being:\n",
    "- `cabin` would've been a good feature to indicate luxury, but around 78% of the data was missing and therefore using it would've been unreliable. \n",
    "- `boat` and `body` are heavily related to survival so we drop them to remove the chance of data leakage. \n",
    "- `home.dest` because I thought it was irrelavant for predicting survival. \n",
    "- `name` and `ticket` I also dropped because I thought they were irrelevant for predicting survival and I later ran into some errors and realized that they needed to be encoded if I wanted to standardize the numerical variables.\n",
    "\n",
    "On the other hand, I can't just drop the entire row for important features like `age`, `fare`, and `embarked`, so instead I filled them with constant placeholders. In the case of numerical variables like `age` and `fare` I used -999 and for embarked I used Unknown. I adopted this method because dropping missing values entirely might remove too much data and also to prevent errors when splitting the dataset. If we don’t handle them now, the dataset might break when we try to train a model. I initially filled the missing values with the mean/median immediately, but then realized we don’t want to do that before splitting because it would cause data leakage."
   ]
  },
  {
   "cell_type": "markdown",
   "id": "21e9d061",
   "metadata": {},
   "source": [
    "## Task 3: Data Splitting"
   ]
  },
  {
   "cell_type": "markdown",
   "id": "1acfd895",
   "metadata": {},
   "source": [
    "I changed task 5 for task 3. Before we do anything like scaling, or encoding categorical variables, we first split the dataset into training, validation, and test sets. The reason for this is to avoid data leakage. "
   ]
  },
  {
   "cell_type": "code",
   "execution_count": 77,
   "id": "1f16149c",
   "metadata": {},
   "outputs": [
    {
     "name": "stdout",
     "output_type": "stream",
     "text": [
      "Training set distribution:\n",
      " survived\n",
      "0    0.617904\n",
      "1    0.382096\n",
      "Name: proportion, dtype: float64\n",
      "\n",
      "Validation set distribution:\n",
      " survived\n",
      "0    0.617347\n",
      "1    0.382653\n",
      "Name: proportion, dtype: float64\n",
      "\n",
      "Test set distribution:\n",
      " survived\n",
      "0    0.619289\n",
      "1    0.380711\n",
      "Name: proportion, dtype: float64\n"
     ]
    }
   ],
   "source": [
    "from sklearn.model_selection import train_test_split\n",
    "# Define features (X) and target variable (y)\n",
    "X = df.drop(columns=['survived'])  # Drop target column\n",
    "y = df['survived']  # Target variable\n",
    "\n",
    "# First, split into training (70%) and temporary (30%) sets\n",
    "X_train, X_temp, y_train, y_temp = train_test_split(X, y, \n",
    "                                                    test_size=0.3, \n",
    "                                                    random_state=42, \n",
    "                                                    stratify=y)  # Maintain class balance\n",
    "\n",
    "# Then, split the temporary set into validation (50%) and test (50%) sets\n",
    "X_val, X_test, y_val, y_test = train_test_split(X_temp, y_temp, \n",
    "                                                test_size=0.5, \n",
    "                                                random_state=42, \n",
    "                                                stratify=y_temp)  # Maintain class balance\n",
    "\n",
    "print(\"Training set distribution:\\n\", y_train.value_counts(normalize=True))\n",
    "print(\"\\nValidation set distribution:\\n\", y_val.value_counts(normalize=True))\n",
    "print(\"\\nTest set distribution:\\n\", y_test.value_counts(normalize=True))"
   ]
  },
  {
   "cell_type": "markdown",
   "id": "04313f29",
   "metadata": {},
   "source": [
    "For this task, I split the dataset into training, validation, and test sets to properly train and evaluate the model. We need to make sure that each split reflects the original class distribution (about 62% non-survivors and 38% survivors).\n",
    "\n",
    "To do this, I used `train_test_split()` with stratification represented by `stratify=y`, so the proportion of survivors and non-survivors remains the same across all sets. This prevents the model from being biased toward one class.\n",
    "\n",
    "First, I split the dataset into:\n",
    "\n",
    "- 70% training data, which we will use to train the model.\n",
    "- 30% temporary data,  which will be further split into validation and test sets.\n",
    "\n",
    "I then took the 30% temporary data and split it 50/50 into:\n",
    "\n",
    "- 15% validation data, which we will use to tune the model.\n",
    "- 15% test data, which is used for the final evaluation."
   ]
  },
  {
   "cell_type": "markdown",
   "id": "6ab46d86",
   "metadata": {},
   "source": [
    "### Task 2.2: Data imputation"
   ]
  },
  {
   "cell_type": "code",
   "execution_count": 78,
   "id": "12bc3a4c",
   "metadata": {},
   "outputs": [
    {
     "name": "stdout",
     "output_type": "stream",
     "text": [
      "Missing values in training set:\n",
      " pclass      0\n",
      "sex         0\n",
      "age         0\n",
      "sibsp       0\n",
      "parch       0\n",
      "fare        0\n",
      "embarked    0\n",
      "dtype: int64\n",
      "\n",
      "Missing values in validation set:\n",
      " pclass      0\n",
      "sex         0\n",
      "age         0\n",
      "sibsp       0\n",
      "parch       0\n",
      "fare        0\n",
      "embarked    0\n",
      "dtype: int64\n",
      "\n",
      "Missing values in test set:\n",
      " pclass      0\n",
      "sex         0\n",
      "age         0\n",
      "sibsp       0\n",
      "parch       0\n",
      "fare        0\n",
      "embarked    0\n",
      "dtype: int64\n"
     ]
    },
    {
     "name": "stderr",
     "output_type": "stream",
     "text": [
      "/var/folders/6r/3wtbz049725_5tc7nk5smtj80000gp/T/ipykernel_910/792661032.py:11: FutureWarning: A value is trying to be set on a copy of a DataFrame or Series through chained assignment using an inplace method.\n",
      "The behavior will change in pandas 3.0. This inplace method will never work because the intermediate object on which we are setting values always behaves as a copy.\n",
      "\n",
      "For example, when doing 'df[col].method(value, inplace=True)', try using 'df.method({col: value}, inplace=True)' or df[col] = df[col].method(value) instead, to perform the operation inplace on the original object.\n",
      "\n",
      "\n",
      "  X_train['fare'].replace(-999, fare_median, inplace=True)\n",
      "/var/folders/6r/3wtbz049725_5tc7nk5smtj80000gp/T/ipykernel_910/792661032.py:12: FutureWarning: A value is trying to be set on a copy of a DataFrame or Series through chained assignment using an inplace method.\n",
      "The behavior will change in pandas 3.0. This inplace method will never work because the intermediate object on which we are setting values always behaves as a copy.\n",
      "\n",
      "For example, when doing 'df[col].method(value, inplace=True)', try using 'df.method({col: value}, inplace=True)' or df[col] = df[col].method(value) instead, to perform the operation inplace on the original object.\n",
      "\n",
      "\n",
      "  X_val['fare'].replace(-999, fare_median, inplace=True)\n",
      "/var/folders/6r/3wtbz049725_5tc7nk5smtj80000gp/T/ipykernel_910/792661032.py:13: FutureWarning: A value is trying to be set on a copy of a DataFrame or Series through chained assignment using an inplace method.\n",
      "The behavior will change in pandas 3.0. This inplace method will never work because the intermediate object on which we are setting values always behaves as a copy.\n",
      "\n",
      "For example, when doing 'df[col].method(value, inplace=True)', try using 'df.method({col: value}, inplace=True)' or df[col] = df[col].method(value) instead, to perform the operation inplace on the original object.\n",
      "\n",
      "\n",
      "  X_test['fare'].replace(-999, fare_median, inplace=True)\n",
      "/var/folders/6r/3wtbz049725_5tc7nk5smtj80000gp/T/ipykernel_910/792661032.py:17: FutureWarning: A value is trying to be set on a copy of a DataFrame or Series through chained assignment using an inplace method.\n",
      "The behavior will change in pandas 3.0. This inplace method will never work because the intermediate object on which we are setting values always behaves as a copy.\n",
      "\n",
      "For example, when doing 'df[col].method(value, inplace=True)', try using 'df.method({col: value}, inplace=True)' or df[col] = df[col].method(value) instead, to perform the operation inplace on the original object.\n",
      "\n",
      "\n",
      "  X_train['embarked'].replace('Unknown', embarked_mode, inplace=True)\n",
      "/var/folders/6r/3wtbz049725_5tc7nk5smtj80000gp/T/ipykernel_910/792661032.py:18: FutureWarning: A value is trying to be set on a copy of a DataFrame or Series through chained assignment using an inplace method.\n",
      "The behavior will change in pandas 3.0. This inplace method will never work because the intermediate object on which we are setting values always behaves as a copy.\n",
      "\n",
      "For example, when doing 'df[col].method(value, inplace=True)', try using 'df.method({col: value}, inplace=True)' or df[col] = df[col].method(value) instead, to perform the operation inplace on the original object.\n",
      "\n",
      "\n",
      "  X_val['embarked'].replace('Unknown', embarked_mode, inplace=True)\n",
      "/var/folders/6r/3wtbz049725_5tc7nk5smtj80000gp/T/ipykernel_910/792661032.py:19: FutureWarning: A value is trying to be set on a copy of a DataFrame or Series through chained assignment using an inplace method.\n",
      "The behavior will change in pandas 3.0. This inplace method will never work because the intermediate object on which we are setting values always behaves as a copy.\n",
      "\n",
      "For example, when doing 'df[col].method(value, inplace=True)', try using 'df.method({col: value}, inplace=True)' or df[col] = df[col].method(value) instead, to perform the operation inplace on the original object.\n",
      "\n",
      "\n",
      "  X_test['embarked'].replace('Unknown', embarked_mode, inplace=True)\n"
     ]
    }
   ],
   "source": [
    "# Compute median age per 'pclass' from training data only\n",
    "age_medians = X_train.groupby('pclass')['age'].median()\n",
    "\n",
    "# Apply age median per pclass (fixing -999 values)\n",
    "X_train['age'] = X_train.apply(lambda row: age_medians[row['pclass']] if row['age'] == -999 else row['age'], axis=1)\n",
    "X_val['age'] = X_val.apply(lambda row: age_medians[row['pclass']] if row['age'] == -999 else row['age'], axis=1)\n",
    "X_test['age'] = X_test.apply(lambda row: age_medians[row['pclass']] if row['age'] == -999 else row['age'], axis=1)\n",
    "\n",
    "# Fill missing fare with median from training data\n",
    "fare_median = X_train['fare'].median()\n",
    "X_train['fare'].replace(-999, fare_median, inplace=True)\n",
    "X_val['fare'].replace(-999, fare_median, inplace=True)\n",
    "X_test['fare'].replace(-999, fare_median, inplace=True)\n",
    "\n",
    "# Fill missing embarked with mode from training data\n",
    "embarked_mode = X_train['embarked'].mode()[0]\n",
    "X_train['embarked'].replace('Unknown', embarked_mode, inplace=True)\n",
    "X_val['embarked'].replace('Unknown', embarked_mode, inplace=True)\n",
    "X_test['embarked'].replace('Unknown', embarked_mode, inplace=True)\n",
    "\n",
    "# Check if all missing values are handled\n",
    "print(\"Missing values in training set:\\n\", X_train.isnull().sum())\n",
    "print(\"\\nMissing values in validation set:\\n\", X_val.isnull().sum())\n",
    "print(\"\\nMissing values in test set:\\n\", X_test.isnull().sum())"
   ]
  },
  {
   "cell_type": "markdown",
   "id": "4d7415cc",
   "metadata": {},
   "source": [
    "Then to handle the now constant `age` values I used the imputation technique using the median `age` within each `pclass`. So my thought process behind this was that, as shown in the last plot of task 1, `pclass` is correlated with `age`; wealthier passengers tended to be older and poorer passengers tended to be younger. If I had used the overall median, it could have overestimated or underestimated ages depending on class. However if we fill in the values using the median age respective of their class we keep a more realistic age distribution. Also, its important to note that I chose the median instead of the mean to avoid the influence of outliers, given the large range of ages.\n",
    "\n",
    "Since `fare ` is a numerical variable and only has 1 missing value, I thought it was reasonable to fill it with the median fare.\n",
    "\n",
    "Since `embarked` is categorical variable and has only 2 missing values, I filled them with the most common embarkation point, in other words the mode. I thought this would be a reasonable guess given that `embarked` only has three possible values.\n",
    "\n",
    "Finally, I printed the count of missing values again but this time of each set to check if all missing data was handled (it should print all zeros).\n",
    "\n",
    "Since we use `val` and `test` sets are for unbiased and unseen data, we need to simulate how the model would handle real-world missing values. So, instead of calculating separate medians for `val` and `test`, we use the imputation values from `X_train`.\n",
    "\n",
    "Why did I impute after splitting? If we imputed missing values before splitting the dataset, we would be using information from the entire dataset (including data from the test set) to fill in missing values. Imputing after splitting avoids this potential data leakage and simulates real world scenarios."
   ]
  },
  {
   "cell_type": "markdown",
   "id": "091b87c2",
   "metadata": {},
   "source": [
    "## Task 4: Encoding Categorical Variables"
   ]
  },
  {
   "cell_type": "code",
   "execution_count": 79,
   "id": "789478d9",
   "metadata": {},
   "outputs": [
    {
     "data": {
      "text/html": [
       "<div>\n",
       "<style scoped>\n",
       "    .dataframe tbody tr th:only-of-type {\n",
       "        vertical-align: middle;\n",
       "    }\n",
       "\n",
       "    .dataframe tbody tr th {\n",
       "        vertical-align: top;\n",
       "    }\n",
       "\n",
       "    .dataframe thead th {\n",
       "        text-align: right;\n",
       "    }\n",
       "</style>\n",
       "<table border=\"1\" class=\"dataframe\">\n",
       "  <thead>\n",
       "    <tr style=\"text-align: right;\">\n",
       "      <th></th>\n",
       "      <th>pclass</th>\n",
       "      <th>age</th>\n",
       "      <th>sibsp</th>\n",
       "      <th>parch</th>\n",
       "      <th>fare</th>\n",
       "      <th>sex_male</th>\n",
       "      <th>embarked_Q</th>\n",
       "      <th>embarked_S</th>\n",
       "    </tr>\n",
       "  </thead>\n",
       "  <tbody>\n",
       "    <tr>\n",
       "      <th>306</th>\n",
       "      <td>1</td>\n",
       "      <td>54.0</td>\n",
       "      <td>0</td>\n",
       "      <td>1</td>\n",
       "      <td>77.2875</td>\n",
       "      <td>1.0</td>\n",
       "      <td>0.0</td>\n",
       "      <td>1.0</td>\n",
       "    </tr>\n",
       "    <tr>\n",
       "      <th>927</th>\n",
       "      <td>3</td>\n",
       "      <td>18.0</td>\n",
       "      <td>1</td>\n",
       "      <td>0</td>\n",
       "      <td>14.4542</td>\n",
       "      <td>1.0</td>\n",
       "      <td>0.0</td>\n",
       "      <td>0.0</td>\n",
       "    </tr>\n",
       "    <tr>\n",
       "      <th>642</th>\n",
       "      <td>3</td>\n",
       "      <td>13.0</td>\n",
       "      <td>4</td>\n",
       "      <td>2</td>\n",
       "      <td>31.3875</td>\n",
       "      <td>1.0</td>\n",
       "      <td>0.0</td>\n",
       "      <td>1.0</td>\n",
       "    </tr>\n",
       "    <tr>\n",
       "      <th>1294</th>\n",
       "      <td>3</td>\n",
       "      <td>28.5</td>\n",
       "      <td>0</td>\n",
       "      <td>0</td>\n",
       "      <td>16.1000</td>\n",
       "      <td>1.0</td>\n",
       "      <td>0.0</td>\n",
       "      <td>1.0</td>\n",
       "    </tr>\n",
       "    <tr>\n",
       "      <th>1015</th>\n",
       "      <td>3</td>\n",
       "      <td>55.5</td>\n",
       "      <td>0</td>\n",
       "      <td>0</td>\n",
       "      <td>8.0500</td>\n",
       "      <td>1.0</td>\n",
       "      <td>0.0</td>\n",
       "      <td>1.0</td>\n",
       "    </tr>\n",
       "  </tbody>\n",
       "</table>\n",
       "</div>"
      ],
      "text/plain": [
       "      pclass   age  sibsp  parch     fare  sex_male  embarked_Q  embarked_S\n",
       "306        1  54.0      0      1  77.2875       1.0         0.0         1.0\n",
       "927        3  18.0      1      0  14.4542       1.0         0.0         0.0\n",
       "642        3  13.0      4      2  31.3875       1.0         0.0         1.0\n",
       "1294       3  28.5      0      0  16.1000       1.0         0.0         1.0\n",
       "1015       3  55.5      0      0   8.0500       1.0         0.0         1.0"
      ]
     },
     "metadata": {},
     "output_type": "display_data"
    }
   ],
   "source": [
    "from sklearn.preprocessing import OneHotEncoder\n",
    "\n",
    "# Select categorical columns\n",
    "categorical_cols = ['sex', 'embarked']\n",
    "\n",
    "# Initialize OneHotEncoder\n",
    "encoder = OneHotEncoder(drop='first', sparse_output=False, handle_unknown='ignore')  # Drop first category for each variable\n",
    "\n",
    "encoder.fit(X_train[categorical_cols])  # Fit only on training data\n",
    "X_train_encoded = encoder.transform(X_train[categorical_cols])\n",
    "X_val_encoded = encoder.transform(X_val[categorical_cols])\n",
    "X_test_encoded = encoder.transform(X_test[categorical_cols])\n",
    "\n",
    "# Get feature names\n",
    "feature_names = encoder.get_feature_names_out(categorical_cols)\n",
    "\n",
    "# Convert transformed data into DataFrames\n",
    "X_train_encoded_df = pd.DataFrame(X_train_encoded, columns=feature_names, index=X_train.index)\n",
    "X_val_encoded_df = pd.DataFrame(X_val_encoded, columns=feature_names, index=X_val.index)\n",
    "X_test_encoded_df = pd.DataFrame(X_test_encoded, columns=feature_names, index=X_test.index)\n",
    "\n",
    "# Drop original categorical columns and merge encoded features\n",
    "X_train = X_train.drop(columns=categorical_cols)\n",
    "X_val = X_val.drop(columns=categorical_cols)\n",
    "X_test = X_test.drop(columns=categorical_cols)\n",
    "\n",
    "X_train = pd.concat([X_train, X_train_encoded_df], axis=1)\n",
    "X_val = pd.concat([X_val, X_val_encoded_df], axis=1)\n",
    "X_test = pd.concat([X_test, X_test_encoded_df], axis=1)\n",
    "\n",
    "# Display final transformed training set\n",
    "display(X_train.head())"
   ]
  },
  {
   "cell_type": "markdown",
   "id": "2f89f201",
   "metadata": {},
   "source": [
    "Since machine learning models can’t work with categorical data, I needed to convert categorical variables into numerical form. For this, I used One-Hot Encoding, which transforms categories into multiple binary (0/1) columns.\n",
    "\n",
    "From the dataset, the categorical features that need encoding are:\n",
    "\n",
    "- `sex` → Male/Female\n",
    "- `embarked` → S, C, Q\n",
    "\n",
    "By default, One-Hot Encoding creates separate binary columns for each category. However, I decided to use  `drop='first'`, which removes one category per feature. I did this for redundancy purposes. For example, if the binary column sex_male is 0 it is implied that the passenger is female. It also prevents multicollinearity, which can confuse our Logistic Regression model.\n",
    "\n",
    "I also set `sparse=False`. Why? Because I wanted a normal NumPy array to make it easier to convert to a Pandas DataFrame.\n",
    "\n",
    "At first, I tried encoding the full dataset before splitting but this meant that all sets (`train`, `val`, `test`) already had encoded features, which we don't want because it contaminates the test set and affects our model. Instead I applied the `fit` step only to `X_train` so the encoder learns from training data. Then I applied`transform` on all sets to ensure they match the training set’s encoding.\n",
    "\n",
    "After encoding, my dataset changed:\n",
    "\n",
    "- `embarked_C` was dropped, and only `embarked_Q` and `embarked_S` remain.\n",
    "- `sex_male` is the only column for `sex`, meaning 0 = female, 1 = male."
   ]
  },
  {
   "cell_type": "markdown",
   "id": "218b9138",
   "metadata": {},
   "source": [
    "## Task 5: Feature Scaling"
   ]
  },
  {
   "cell_type": "markdown",
   "id": "d1a8650a",
   "metadata": {},
   "source": [
    "For this task, I started by identifying the numerical variables in the dataset:\n",
    "- `age`\n",
    "- `fare`\n",
    "\n",
    "At first, there’s no way to know which method is better for our dataset, so I applied both:\n",
    "\n",
    "- Standardization (`StandardScaler`)\n",
    "- Normalization (`MinMaxScaler`)\n",
    "\n",
    "After applying both methods, I plotted the distributions for `age` and `fare` to compare the results."
   ]
  },
  {
   "cell_type": "code",
   "execution_count": 80,
   "id": "9e28fd21",
   "metadata": {},
   "outputs": [
    {
     "name": "stdout",
     "output_type": "stream",
     "text": [
      "Training Set:\n"
     ]
    },
    {
     "data": {
      "text/html": [
       "<div>\n",
       "<style scoped>\n",
       "    .dataframe tbody tr th:only-of-type {\n",
       "        vertical-align: middle;\n",
       "    }\n",
       "\n",
       "    .dataframe tbody tr th {\n",
       "        vertical-align: top;\n",
       "    }\n",
       "\n",
       "    .dataframe thead th {\n",
       "        text-align: right;\n",
       "    }\n",
       "</style>\n",
       "<table border=\"1\" class=\"dataframe\">\n",
       "  <thead>\n",
       "    <tr style=\"text-align: right;\">\n",
       "      <th></th>\n",
       "      <th>pclass</th>\n",
       "      <th>age</th>\n",
       "      <th>sibsp</th>\n",
       "      <th>parch</th>\n",
       "      <th>fare</th>\n",
       "      <th>sex_male</th>\n",
       "      <th>embarked_Q</th>\n",
       "      <th>embarked_S</th>\n",
       "      <th>age_minmax</th>\n",
       "      <th>fare_minmax</th>\n",
       "      <th>age_scaled</th>\n",
       "      <th>fare_scaled</th>\n",
       "    </tr>\n",
       "  </thead>\n",
       "  <tbody>\n",
       "    <tr>\n",
       "      <th>306</th>\n",
       "      <td>1</td>\n",
       "      <td>54.0</td>\n",
       "      <td>0</td>\n",
       "      <td>1</td>\n",
       "      <td>77.2875</td>\n",
       "      <td>1.0</td>\n",
       "      <td>0.0</td>\n",
       "      <td>1.0</td>\n",
       "      <td>0.673640</td>\n",
       "      <td>0.150855</td>\n",
       "      <td>1.915588</td>\n",
       "      <td>0.905927</td>\n",
       "    </tr>\n",
       "    <tr>\n",
       "      <th>927</th>\n",
       "      <td>3</td>\n",
       "      <td>18.0</td>\n",
       "      <td>1</td>\n",
       "      <td>0</td>\n",
       "      <td>14.4542</td>\n",
       "      <td>1.0</td>\n",
       "      <td>0.0</td>\n",
       "      <td>0.0</td>\n",
       "      <td>0.221758</td>\n",
       "      <td>0.028213</td>\n",
       "      <td>-0.733474</td>\n",
       "      <td>-0.366777</td>\n",
       "    </tr>\n",
       "    <tr>\n",
       "      <th>642</th>\n",
       "      <td>3</td>\n",
       "      <td>13.0</td>\n",
       "      <td>4</td>\n",
       "      <td>2</td>\n",
       "      <td>31.3875</td>\n",
       "      <td>1.0</td>\n",
       "      <td>0.0</td>\n",
       "      <td>1.0</td>\n",
       "      <td>0.158996</td>\n",
       "      <td>0.061264</td>\n",
       "      <td>-1.101400</td>\n",
       "      <td>-0.023788</td>\n",
       "    </tr>\n",
       "    <tr>\n",
       "      <th>1294</th>\n",
       "      <td>3</td>\n",
       "      <td>28.5</td>\n",
       "      <td>0</td>\n",
       "      <td>0</td>\n",
       "      <td>16.1000</td>\n",
       "      <td>1.0</td>\n",
       "      <td>0.0</td>\n",
       "      <td>1.0</td>\n",
       "      <td>0.353557</td>\n",
       "      <td>0.031425</td>\n",
       "      <td>0.039169</td>\n",
       "      <td>-0.333441</td>\n",
       "    </tr>\n",
       "    <tr>\n",
       "      <th>1015</th>\n",
       "      <td>3</td>\n",
       "      <td>55.5</td>\n",
       "      <td>0</td>\n",
       "      <td>0</td>\n",
       "      <td>8.0500</td>\n",
       "      <td>1.0</td>\n",
       "      <td>0.0</td>\n",
       "      <td>1.0</td>\n",
       "      <td>0.692469</td>\n",
       "      <td>0.015713</td>\n",
       "      <td>2.025966</td>\n",
       "      <td>-0.496495</td>\n",
       "    </tr>\n",
       "  </tbody>\n",
       "</table>\n",
       "</div>"
      ],
      "text/plain": [
       "      pclass   age  sibsp  parch     fare  sex_male  embarked_Q  embarked_S  \\\n",
       "306        1  54.0      0      1  77.2875       1.0         0.0         1.0   \n",
       "927        3  18.0      1      0  14.4542       1.0         0.0         0.0   \n",
       "642        3  13.0      4      2  31.3875       1.0         0.0         1.0   \n",
       "1294       3  28.5      0      0  16.1000       1.0         0.0         1.0   \n",
       "1015       3  55.5      0      0   8.0500       1.0         0.0         1.0   \n",
       "\n",
       "      age_minmax  fare_minmax  age_scaled  fare_scaled  \n",
       "306     0.673640     0.150855    1.915588     0.905927  \n",
       "927     0.221758     0.028213   -0.733474    -0.366777  \n",
       "642     0.158996     0.061264   -1.101400    -0.023788  \n",
       "1294    0.353557     0.031425    0.039169    -0.333441  \n",
       "1015    0.692469     0.015713    2.025966    -0.496495  "
      ]
     },
     "metadata": {},
     "output_type": "display_data"
    },
    {
     "name": "stdout",
     "output_type": "stream",
     "text": [
      "\n",
      "Validation Set:\n"
     ]
    },
    {
     "data": {
      "text/html": [
       "<div>\n",
       "<style scoped>\n",
       "    .dataframe tbody tr th:only-of-type {\n",
       "        vertical-align: middle;\n",
       "    }\n",
       "\n",
       "    .dataframe tbody tr th {\n",
       "        vertical-align: top;\n",
       "    }\n",
       "\n",
       "    .dataframe thead th {\n",
       "        text-align: right;\n",
       "    }\n",
       "</style>\n",
       "<table border=\"1\" class=\"dataframe\">\n",
       "  <thead>\n",
       "    <tr style=\"text-align: right;\">\n",
       "      <th></th>\n",
       "      <th>pclass</th>\n",
       "      <th>age</th>\n",
       "      <th>sibsp</th>\n",
       "      <th>parch</th>\n",
       "      <th>fare</th>\n",
       "      <th>sex_male</th>\n",
       "      <th>embarked_Q</th>\n",
       "      <th>embarked_S</th>\n",
       "      <th>age_minmax</th>\n",
       "      <th>fare_minmax</th>\n",
       "      <th>age_scaled</th>\n",
       "      <th>fare_scaled</th>\n",
       "    </tr>\n",
       "  </thead>\n",
       "  <tbody>\n",
       "    <tr>\n",
       "      <th>1129</th>\n",
       "      <td>3</td>\n",
       "      <td>25.0</td>\n",
       "      <td>1</td>\n",
       "      <td>0</td>\n",
       "      <td>7.775</td>\n",
       "      <td>1.0</td>\n",
       "      <td>0.0</td>\n",
       "      <td>1.0</td>\n",
       "      <td>0.309624</td>\n",
       "      <td>0.015176</td>\n",
       "      <td>-0.218379</td>\n",
       "      <td>-0.502065</td>\n",
       "    </tr>\n",
       "    <tr>\n",
       "      <th>1217</th>\n",
       "      <td>3</td>\n",
       "      <td>19.0</td>\n",
       "      <td>0</td>\n",
       "      <td>0</td>\n",
       "      <td>7.650</td>\n",
       "      <td>1.0</td>\n",
       "      <td>0.0</td>\n",
       "      <td>1.0</td>\n",
       "      <td>0.234310</td>\n",
       "      <td>0.014932</td>\n",
       "      <td>-0.659889</td>\n",
       "      <td>-0.504597</td>\n",
       "    </tr>\n",
       "    <tr>\n",
       "      <th>1196</th>\n",
       "      <td>3</td>\n",
       "      <td>29.0</td>\n",
       "      <td>0</td>\n",
       "      <td>0</td>\n",
       "      <td>9.500</td>\n",
       "      <td>1.0</td>\n",
       "      <td>0.0</td>\n",
       "      <td>1.0</td>\n",
       "      <td>0.359833</td>\n",
       "      <td>0.018543</td>\n",
       "      <td>0.075962</td>\n",
       "      <td>-0.467125</td>\n",
       "    </tr>\n",
       "    <tr>\n",
       "      <th>241</th>\n",
       "      <td>1</td>\n",
       "      <td>36.0</td>\n",
       "      <td>0</td>\n",
       "      <td>0</td>\n",
       "      <td>50.000</td>\n",
       "      <td>1.0</td>\n",
       "      <td>0.0</td>\n",
       "      <td>1.0</td>\n",
       "      <td>0.447699</td>\n",
       "      <td>0.097594</td>\n",
       "      <td>0.591057</td>\n",
       "      <td>0.353212</td>\n",
       "    </tr>\n",
       "    <tr>\n",
       "      <th>1254</th>\n",
       "      <td>3</td>\n",
       "      <td>25.0</td>\n",
       "      <td>0</td>\n",
       "      <td>0</td>\n",
       "      <td>0.000</td>\n",
       "      <td>1.0</td>\n",
       "      <td>0.0</td>\n",
       "      <td>1.0</td>\n",
       "      <td>0.309624</td>\n",
       "      <td>0.000000</td>\n",
       "      <td>-0.218379</td>\n",
       "      <td>-0.659550</td>\n",
       "    </tr>\n",
       "  </tbody>\n",
       "</table>\n",
       "</div>"
      ],
      "text/plain": [
       "      pclass   age  sibsp  parch    fare  sex_male  embarked_Q  embarked_S  \\\n",
       "1129       3  25.0      1      0   7.775       1.0         0.0         1.0   \n",
       "1217       3  19.0      0      0   7.650       1.0         0.0         1.0   \n",
       "1196       3  29.0      0      0   9.500       1.0         0.0         1.0   \n",
       "241        1  36.0      0      0  50.000       1.0         0.0         1.0   \n",
       "1254       3  25.0      0      0   0.000       1.0         0.0         1.0   \n",
       "\n",
       "      age_minmax  fare_minmax  age_scaled  fare_scaled  \n",
       "1129    0.309624     0.015176   -0.218379    -0.502065  \n",
       "1217    0.234310     0.014932   -0.659889    -0.504597  \n",
       "1196    0.359833     0.018543    0.075962    -0.467125  \n",
       "241     0.447699     0.097594    0.591057     0.353212  \n",
       "1254    0.309624     0.000000   -0.218379    -0.659550  "
      ]
     },
     "metadata": {},
     "output_type": "display_data"
    },
    {
     "name": "stdout",
     "output_type": "stream",
     "text": [
      "\n",
      "Test Set:\n"
     ]
    },
    {
     "data": {
      "text/html": [
       "<div>\n",
       "<style scoped>\n",
       "    .dataframe tbody tr th:only-of-type {\n",
       "        vertical-align: middle;\n",
       "    }\n",
       "\n",
       "    .dataframe tbody tr th {\n",
       "        vertical-align: top;\n",
       "    }\n",
       "\n",
       "    .dataframe thead th {\n",
       "        text-align: right;\n",
       "    }\n",
       "</style>\n",
       "<table border=\"1\" class=\"dataframe\">\n",
       "  <thead>\n",
       "    <tr style=\"text-align: right;\">\n",
       "      <th></th>\n",
       "      <th>pclass</th>\n",
       "      <th>age</th>\n",
       "      <th>sibsp</th>\n",
       "      <th>parch</th>\n",
       "      <th>fare</th>\n",
       "      <th>sex_male</th>\n",
       "      <th>embarked_Q</th>\n",
       "      <th>embarked_S</th>\n",
       "      <th>age_minmax</th>\n",
       "      <th>fare_minmax</th>\n",
       "      <th>age_scaled</th>\n",
       "      <th>fare_scaled</th>\n",
       "    </tr>\n",
       "  </thead>\n",
       "  <tbody>\n",
       "    <tr>\n",
       "      <th>437</th>\n",
       "      <td>2</td>\n",
       "      <td>24.0</td>\n",
       "      <td>1</td>\n",
       "      <td>2</td>\n",
       "      <td>65.0000</td>\n",
       "      <td>0.0</td>\n",
       "      <td>0.0</td>\n",
       "      <td>1.0</td>\n",
       "      <td>0.297071</td>\n",
       "      <td>0.126872</td>\n",
       "      <td>-0.291964</td>\n",
       "      <td>0.657041</td>\n",
       "    </tr>\n",
       "    <tr>\n",
       "      <th>1120</th>\n",
       "      <td>3</td>\n",
       "      <td>25.0</td>\n",
       "      <td>1</td>\n",
       "      <td>0</td>\n",
       "      <td>7.7750</td>\n",
       "      <td>1.0</td>\n",
       "      <td>0.0</td>\n",
       "      <td>1.0</td>\n",
       "      <td>0.309624</td>\n",
       "      <td>0.015176</td>\n",
       "      <td>-0.218379</td>\n",
       "      <td>-0.502065</td>\n",
       "    </tr>\n",
       "    <tr>\n",
       "      <th>371</th>\n",
       "      <td>2</td>\n",
       "      <td>45.0</td>\n",
       "      <td>0</td>\n",
       "      <td>2</td>\n",
       "      <td>30.0000</td>\n",
       "      <td>0.0</td>\n",
       "      <td>0.0</td>\n",
       "      <td>1.0</td>\n",
       "      <td>0.560670</td>\n",
       "      <td>0.058556</td>\n",
       "      <td>1.253323</td>\n",
       "      <td>-0.051893</td>\n",
       "    </tr>\n",
       "    <tr>\n",
       "      <th>837</th>\n",
       "      <td>3</td>\n",
       "      <td>37.0</td>\n",
       "      <td>2</td>\n",
       "      <td>0</td>\n",
       "      <td>7.9250</td>\n",
       "      <td>1.0</td>\n",
       "      <td>0.0</td>\n",
       "      <td>1.0</td>\n",
       "      <td>0.460251</td>\n",
       "      <td>0.015469</td>\n",
       "      <td>0.664642</td>\n",
       "      <td>-0.499027</td>\n",
       "    </tr>\n",
       "    <tr>\n",
       "      <th>1201</th>\n",
       "      <td>3</td>\n",
       "      <td>22.0</td>\n",
       "      <td>0</td>\n",
       "      <td>0</td>\n",
       "      <td>7.2292</td>\n",
       "      <td>1.0</td>\n",
       "      <td>0.0</td>\n",
       "      <td>0.0</td>\n",
       "      <td>0.271967</td>\n",
       "      <td>0.014110</td>\n",
       "      <td>-0.439134</td>\n",
       "      <td>-0.513121</td>\n",
       "    </tr>\n",
       "  </tbody>\n",
       "</table>\n",
       "</div>"
      ],
      "text/plain": [
       "      pclass   age  sibsp  parch     fare  sex_male  embarked_Q  embarked_S  \\\n",
       "437        2  24.0      1      2  65.0000       0.0         0.0         1.0   \n",
       "1120       3  25.0      1      0   7.7750       1.0         0.0         1.0   \n",
       "371        2  45.0      0      2  30.0000       0.0         0.0         1.0   \n",
       "837        3  37.0      2      0   7.9250       1.0         0.0         1.0   \n",
       "1201       3  22.0      0      0   7.2292       1.0         0.0         0.0   \n",
       "\n",
       "      age_minmax  fare_minmax  age_scaled  fare_scaled  \n",
       "437     0.297071     0.126872   -0.291964     0.657041  \n",
       "1120    0.309624     0.015176   -0.218379    -0.502065  \n",
       "371     0.560670     0.058556    1.253323    -0.051893  \n",
       "837     0.460251     0.015469    0.664642    -0.499027  \n",
       "1201    0.271967     0.014110   -0.439134    -0.513121  "
      ]
     },
     "metadata": {},
     "output_type": "display_data"
    }
   ],
   "source": [
    "from sklearn.preprocessing import StandardScaler, MinMaxScaler\n",
    "\n",
    "# Initialize scalers\n",
    "scaler_minmax = MinMaxScaler()\n",
    "scaler_standard = StandardScaler()\n",
    "\n",
    "# Apply MinMaxScaler FIRST\n",
    "X_train[['age_minmax', 'fare_minmax']] = scaler_minmax.fit_transform(X_train[['age', 'fare']])\n",
    "X_val[['age_minmax', 'fare_minmax']] = scaler_minmax.transform(X_val[['age', 'fare']])\n",
    "X_test[['age_minmax', 'fare_minmax']] = scaler_minmax.transform(X_test[['age', 'fare']])\n",
    "\n",
    "# Apply StandardScaler AFTER MinMaxScaler\n",
    "X_train[['age_scaled', 'fare_scaled']] = scaler_standard.fit_transform(X_train[['age', 'fare']])\n",
    "X_val[['age_scaled', 'fare_scaled']] = scaler_standard.transform(X_val[['age', 'fare']])\n",
    "X_test[['age_scaled', 'fare_scaled']] = scaler_standard.transform(X_test[['age', 'fare']])\n",
    "\n",
    "print(\"Training Set:\")\n",
    "display(X_train.head())\n",
    "\n",
    "print(\"\\nValidation Set:\")\n",
    "display(X_val.head())\n",
    "\n",
    "print(\"\\nTest Set:\")\n",
    "display(X_test.head())"
   ]
  },
  {
   "cell_type": "code",
   "execution_count": 81,
   "id": "1b3a1860",
   "metadata": {},
   "outputs": [
    {
     "data": {
      "image/png": "[encoded data removed]",
      "text/plain": [
       "<Figure size 1200x1000 with 4 Axes>"
      ]
     },
     "metadata": {},
     "output_type": "display_data"
    }
   ],
   "source": [
    "# Initialize the figure with subplots\n",
    "fig, axes = plt.subplots(2, 2, figsize=(12, 10))\n",
    "\n",
    "# Standardized Age\n",
    "sns.histplot(X_train['age_scaled'], bins=30, kde=True, ax=axes[0, 0])\n",
    "axes[0, 0].set_title(\"Standardized Age\")\n",
    "\n",
    "# Normalized Age\n",
    "sns.histplot(X_train['age_minmax'], bins=30, kde=True, ax=axes[0, 1])\n",
    "axes[0, 1].set_title(\"Normalized Age\")\n",
    "\n",
    "# Standardized Fare\n",
    "sns.histplot(X_train['fare_scaled'], bins=30, kde=True, ax=axes[1, 0])\n",
    "axes[1, 0].set_title(\"Standardized Fare\")\n",
    "\n",
    "# Normalized Fare\n",
    "sns.histplot(X_train['fare_minmax'], bins=30, kde=True, ax=axes[1, 1])\n",
    "axes[1, 1].set_title(\"Normalized Fare\")\n",
    "\n",
    "# Adjust layout\n",
    "plt.tight_layout()\n",
    "plt.show()"
   ]
  },
  {
   "cell_type": "markdown",
   "id": "5bb0d18b",
   "metadata": {},
   "source": [
    "### Choosing Standardization\n",
    "\n",
    "Looking at the plots, I noticed that `age` is roughly normally distributed, meaning it follows a weak bell curve (even though it’s not perfect). A common rule of thumb is that standardization works best for normally distributed data, so that already makes it a strong candidate.\n",
    "\n",
    "But the real reason I chose `StandardScaler` is because of `fare`.\n",
    "\n",
    "- `fare` has extreme values, with a max value of around 512.\n",
    "- `MinMaxScaler` is sensitive to outliers because it squishes everything into [0,1]. Extreme values can compress the rest of the data.\n",
    "- `StandardScaler` handles outliers better because it keeps the data centered around 0. This means that even if there are extreme values the model won’t be too sensitive to them.\n",
    "\n",
    "Since I plan to use Logistic Regression, standardization is the better choice because it assumes normally distributed data and performs best when all features are centered around 0 with equal variance.\n",
    "\n",
    "Scaling is important because machine learning models, especially Logistic Regression, work best when features are on similar scales. Without scaling, features like `fare` for example, would dominate smaller values like `age`, affecting how the model learns. \n",
    "\n",
    "To conclude, the difference between these two techniques is that standardization transforms the data to have a mean of 0 and a standard deviation of 1, preserving the original distribution but adjusting the scale. On the other hand, normalization rescales all values between 0 and 1, making everything relative to the minimum and maximum values. The key difference is that standardization handles outliers better because it doesn’t compress extreme values, while normalization is more sensitive to outliers. "
   ]
  },
  {
   "cell_type": "markdown",
   "id": "ab40f257",
   "metadata": {},
   "source": [
    "## Task 6: Addressing Class Imbalance"
   ]
  },
  {
   "cell_type": "markdown",
   "id": "b97c1a37",
   "metadata": {},
   "source": [
    "Class balance is important because if we use imbalanced data we could end up with a biased model.\n",
    "\n",
    "So for this task I discarded undersampling because because removing data is not ideal since the dataset isn't very large so every bit of data is important to make our model better.\n",
    "\n",
    "Instead, I chose oversampling, more specifically, SMOTE. "
   ]
  },
  {
   "cell_type": "code",
   "execution_count": 82,
   "id": "2d2aa2d8",
   "metadata": {},
   "outputs": [
    {
     "name": "stdout",
     "output_type": "stream",
     "text": [
      "Before SMOTE:\n",
      " survived\n",
      "0    566\n",
      "1    350\n",
      "Name: count, dtype: int64\n",
      "\n",
      "After SMOTE:\n",
      " survived\n",
      "0    566\n",
      "1    566\n",
      "Name: count, dtype: int64\n"
     ]
    }
   ],
   "source": [
    "from imblearn.over_sampling import SMOTE\n",
    "\n",
    "# Define SMOTE\n",
    "smote = SMOTE(random_state=42)\n",
    "\n",
    "# Apply SMOTE to training data\n",
    "X_train_resampled, y_train_resampled = smote.fit_resample(X_train, y_train)\n",
    "\n",
    "# Check old and new class distribution\n",
    "print(\"Before SMOTE:\\n\", y_train.value_counts())  # Original class distribution\n",
    "print(\"\\nAfter SMOTE:\\n\", y_train_resampled.value_counts())  # Balanced class distribution"
   ]
  },
  {
   "cell_type": "markdown",
   "id": "ab146086",
   "metadata": {},
   "source": [
    "I initialized SMOTE with a `random_state=42` to ensure reproducibility so that if we run the code again we get the same results.\n",
    "\n",
    "Then I applied SMOTE only to the training data.\n",
    "\n",
    "Lastly, I printed a before and after count of survivors to confirm that SMOTE correctly balanced the dataset by ensuring both classes have the same number of samples.\n",
    "\n",
    "SMOTE is creating new synthetic data points for the minority class, in this case `survived = 1`. Why did I choose SMOTE over ADASYN? Because ADASYN focuses on areas that are more difficult to classify and I wanted a more balanced dataset that focused on all minorities equally without introducing unnecessary noise."
   ]
  },
  {
   "cell_type": "markdown",
   "id": "6f50976f",
   "metadata": {},
   "source": [
    "## Task 7: Feature Selection"
   ]
  },
  {
   "cell_type": "markdown",
   "id": "6730734d",
   "metadata": {},
   "source": [
    "For feature selection I chose L1 Regularization because it eliminates irrelevant features with low variance or high correlation, keeping only the meaningful features. It also helps reducing overfitting and picks features that will generalize to new data."
   ]
  },
  {
   "cell_type": "code",
   "execution_count": 83,
   "id": "ed046168",
   "metadata": {},
   "outputs": [
    {
     "name": "stdout",
     "output_type": "stream",
     "text": [
      "Selected Features: ['pclass', 'age', 'sibsp', 'parch', 'fare', 'sex_male', 'embarked_Q', 'embarked_S', 'age_scaled']\n"
     ]
    },
    {
     "name": "stderr",
     "output_type": "stream",
     "text": [
      "/Users/dianacordovez/venv/lib/python3.12/site-packages/sklearn/utils/validation.py:2732: UserWarning: X has feature names, but SelectFromModel was fitted without feature names\n",
      "  warnings.warn(\n",
      "/Users/dianacordovez/venv/lib/python3.12/site-packages/sklearn/utils/validation.py:2732: UserWarning: X has feature names, but SelectFromModel was fitted without feature names\n",
      "  warnings.warn(\n",
      "/Users/dianacordovez/venv/lib/python3.12/site-packages/sklearn/utils/validation.py:2732: UserWarning: X has feature names, but SelectFromModel was fitted without feature names\n",
      "  warnings.warn(\n"
     ]
    }
   ],
   "source": [
    "from sklearn.linear_model import LogisticRegression\n",
    "from sklearn.feature_selection import SelectFromModel\n",
    "\n",
    "# Initialize Logistic Regression with L1 penalty\n",
    "model = LogisticRegression(penalty='l1', solver='liblinear', random_state=42)\n",
    "\n",
    "# Fit model on training data\n",
    "model.fit(X_train_resampled, y_train_resampled)\n",
    "\n",
    "# Select important features\n",
    "selector = SelectFromModel(model, prefit=True)\n",
    "selected_features = X_train_resampled.columns[selector.get_support()]\n",
    "\n",
    "# Keep only selected features\n",
    "X_train_selected = selector.transform(X_train_resampled)\n",
    "X_val_selected = selector.transform(X_val)\n",
    "X_test_selected = selector.transform(X_test)\n",
    "\n",
    "# Convert back to DataFrame for readability\n",
    "X_train_selected_df = pd.DataFrame(X_train_selected, columns=selected_features)\n",
    "X_val_selected_df = pd.DataFrame(X_val_selected, columns=selected_features)\n",
    "X_test_selected_df = pd.DataFrame(X_test_selected, columns=selected_features)\n",
    "\n",
    "# Check selected features\n",
    "print(\"Selected Features:\", selected_features.tolist())"
   ]
  },
  {
   "cell_type": "markdown",
   "id": "2c86c1e5",
   "metadata": {},
   "source": [
    "After applying L1 Regularization, features with non-zero weights were selected:\n",
    "- `pclass`, `fare`: Most likely because wealth/status affects survival.\n",
    "- `age`, `age_scaled`: Most likely because depending on your age you had a higher survival rate (younger people)\n",
    "- `sibsp`, `parch`: Family connections or family size could increase survival.\n",
    "- `sex_male`: Gender played a big role in survival.\n",
    "- `embarked_Q`, `embarked_S`: Departure locations might have affected survival.\n",
    "\n",
    "The reason why we do task 6 (class balance) after splitting and not on the entire dataset is because it prevents data leakage. It might make the model seem better than it actually is cause data leaks into the validation and test sets. Then, by doing task 7 (feature selection) after splitting we avoid creating bias in our model. If we use information from the whole dataset the model would be biased toward these features. We also want to ensure generalization and our model's ability to predict using unseen data."
   ]
  },
  {
   "cell_type": "markdown",
   "id": "69b76c1d",
   "metadata": {},
   "source": [
    "## Task 8: Training a Logistic Regression Model"
   ]
  },
  {
   "cell_type": "code",
   "execution_count": 84,
   "id": "70dd6022",
   "metadata": {},
   "outputs": [
    {
     "name": "stdout",
     "output_type": "stream",
     "text": [
      "Model Accuracy: 0.8214\n"
     ]
    },
    {
     "data": {
      "image/png": "[encoded data removed]",
      "text/plain": [
       "<Figure size 500x400 with 2 Axes>"
      ]
     },
     "metadata": {},
     "output_type": "display_data"
    },
    {
     "name": "stdout",
     "output_type": "stream",
     "text": [
      "\n",
      "Classification Report:\n",
      "               precision    recall  f1-score   support\n",
      "\n",
      "           0       0.86      0.84      0.85       121\n",
      "           1       0.76      0.79      0.77        75\n",
      "\n",
      "    accuracy                           0.82       196\n",
      "   macro avg       0.81      0.81      0.81       196\n",
      "weighted avg       0.82      0.82      0.82       196\n",
      "\n"
     ]
    }
   ],
   "source": [
    "from sklearn.metrics import accuracy_score, confusion_matrix, classification_report\n",
    "import seaborn as sns\n",
    "import matplotlib.pyplot as plt\n",
    "\n",
    "# Initialize Logistic Regression model\n",
    "log_reg = LogisticRegression(solver='liblinear', random_state=42)\n",
    "\n",
    "# Train the model using the selected features\n",
    "log_reg.fit(X_train_selected, y_train_resampled)\n",
    "\n",
    "# Predict on validation set\n",
    "y_val_pred = log_reg.predict(X_val_selected)\n",
    "\n",
    "# Evaluate the model\n",
    "accuracy = accuracy_score(y_val, y_val_pred)\n",
    "print(f\"Model Accuracy: {accuracy:.4f}\")\n",
    "\n",
    "# Print confusion matrix\n",
    "conf_matrix = confusion_matrix(y_val, y_val_pred)\n",
    "plt.figure(figsize=(5, 4))\n",
    "sns.heatmap(conf_matrix, annot=True, fmt=\"d\", cmap=\"Blues\", xticklabels=[\"Not Survived\", \"Survived\"], yticklabels=[\"Not Survived\", \"Survived\"])\n",
    "plt.xlabel(\"Predicted Label\")\n",
    "plt.ylabel(\"True Label\")\n",
    "plt.title(\"Confusion Matrix\")\n",
    "plt.show()\n",
    "\n",
    "# Print classification report\n",
    "print(\"\\nClassification Report:\\n\", classification_report(y_val, y_val_pred))"
   ]
  }
 ],
 "metadata": {
  "kernelspec": {
   "display_name": "venv",
   "language": "python",
   "name": "python3"
  },
  "language_info": {
   "codemirror_mode": {
    "name": "ipython",
    "version": 3
   },
   "file_extension": ".py",
   "mimetype": "text/x-python",
   "name": "python",
   "nbconvert_exporter": "python",
   "pygments_lexer": "ipython3",
   "version": "3.12.6"
  }
 },
 "nbformat": 4,
 "nbformat_minor": 5
}
